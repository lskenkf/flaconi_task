{
 "cells": [
  {
   "cell_type": "code",
   "execution_count": 2,
   "id": "494d2cf5",
   "metadata": {},
   "outputs": [],
   "source": [
    "import os\n",
    "import sys\n",
    "module_path = os.path.abspath(os.path.join('..'))\n",
    "if module_path not in sys.path:\n",
    "    sys.path.append(module_path)"
   ]
  },
  {
   "cell_type": "code",
   "execution_count": 147,
   "id": "1c973e63",
   "metadata": {},
   "outputs": [],
   "source": [
    "import re\n",
    "import os\n",
    "import warnings\n",
    "import datetime\n",
    "\n",
    "import pandas as pd\n",
    "import numpy as np\n",
    "import pandasql as psql\n",
    "\n",
    "from solution import *\n",
    "from datetime import timedelta\n"
   ]
  },
  {
   "cell_type": "code",
   "execution_count": 148,
   "id": "dbb837fa",
   "metadata": {},
   "outputs": [],
   "source": [
    "\n",
    "\n",
    "\n",
    "def get_data(timestamp, input_file):\n",
    "    \n",
    "    timestamp = pd.Timestamp(timestamp)\n",
    "    data = pd.read_csv(input_file) \n",
    "\n",
    "    data['time'] = data['time'].apply(\n",
    "        lambda dt: dt[:-5] + '00:00'\n",
    "    )\n",
    "\n",
    "    data['time'] = pd.to_datetime(data['time'])\n",
    "    data = data.loc[data.time <= timestamp]\n",
    "    \n",
    "    return data\n",
    "\n",
    "def fill_nan(data):\n",
    "    \n",
    "\n",
    "    data = data.groupby(\n",
    "        ['device', 'time']\n",
    "    )['device_activated'].agg(\n",
    "        'max'\n",
    "    ).reset_index()\n",
    "\n",
    "    data = data.set_index(\n",
    "        ['time', 'device']\n",
    "    ).unstack(\n",
    "        fill_value=0\n",
    "    ).asfreq(\n",
    "        'H', fill_value=0\n",
    "    ).stack().sort_index(\n",
    "        level=1\n",
    "    ).reset_index()\n",
    "    \n",
    "    return data\n",
    "\n",
    "#set(new_data.device_activated.values == data.device_activated.values)\n",
    "\n",
    "# data = data.loc[data.week>26] we do not remove week 26 even if it has only 2 days records,\n",
    "# because the input time could fall in this week.\n"
   ]
  },
  {
   "cell_type": "code",
   "execution_count": 149,
   "id": "0c2c5685",
   "metadata": {},
   "outputs": [],
   "source": [
    "def data_pipeline(timestamp, input_file):\n",
    "    data = get_data(timestamp, input_file)\n",
    "    data = fill_nan(data)\n",
    "    data = extract_feature(data)\n",
    "    \n",
    "    return data\n",
    "\n",
    "def predict(timestamp,input_file,output_file):\n",
    "    data = data_pipeline(timestamp, input_file)\n",
    "    split_point = timestamp.round(freq='H')\n",
    "    train_data = data[data.time <= timestamp]\n",
    "    \n",
    "    pred = train_data.groupby(\n",
    "        ['device', 'day_name','hour']\n",
    "    ).agg(\n",
    "        train_device_activated=('device_activated', 'max')\n",
    "    ).reset_index()\n",
    "    \n",
    "    return pred   "
   ]
  },
  {
   "cell_type": "code",
   "execution_count": 150,
   "id": "3943686e",
   "metadata": {},
   "outputs": [
    {
     "ename": "NameError",
     "evalue": "name 'extract_feature' is not defined",
     "output_type": "error",
     "traceback": [
      "\u001b[1;31m---------------------------------------------------------------------------\u001b[0m",
      "\u001b[1;31mNameError\u001b[0m                                 Traceback (most recent call last)",
      "\u001b[1;32m~\\AppData\\Local\\Temp/ipykernel_11908/1469761294.py\u001b[0m in \u001b[0;36m<module>\u001b[1;34m\u001b[0m\n\u001b[0;32m      3\u001b[0m \u001b[0moutput_file\u001b[0m \u001b[1;33m=\u001b[0m \u001b[1;34m'data\\myresult.csv'\u001b[0m\u001b[1;33m\u001b[0m\u001b[1;33m\u001b[0m\u001b[0m\n\u001b[0;32m      4\u001b[0m \u001b[1;33m\u001b[0m\u001b[0m\n\u001b[1;32m----> 5\u001b[1;33m \u001b[0mpred\u001b[0m \u001b[1;33m=\u001b[0m \u001b[0mpredict\u001b[0m\u001b[1;33m(\u001b[0m\u001b[0mtimestamp\u001b[0m\u001b[1;33m,\u001b[0m\u001b[0minput_file\u001b[0m\u001b[1;33m,\u001b[0m\u001b[0moutput_file\u001b[0m\u001b[1;33m)\u001b[0m\u001b[1;33m\u001b[0m\u001b[1;33m\u001b[0m\u001b[0m\n\u001b[0m",
      "\u001b[1;32m~\\AppData\\Local\\Temp/ipykernel_11908/1741407013.py\u001b[0m in \u001b[0;36mpredict\u001b[1;34m(timestamp, input_file, output_file)\u001b[0m\n\u001b[0;32m      7\u001b[0m \u001b[1;33m\u001b[0m\u001b[0m\n\u001b[0;32m      8\u001b[0m \u001b[1;32mdef\u001b[0m \u001b[0mpredict\u001b[0m\u001b[1;33m(\u001b[0m\u001b[0mtimestamp\u001b[0m\u001b[1;33m,\u001b[0m\u001b[0minput_file\u001b[0m\u001b[1;33m,\u001b[0m\u001b[0moutput_file\u001b[0m\u001b[1;33m)\u001b[0m\u001b[1;33m:\u001b[0m\u001b[1;33m\u001b[0m\u001b[1;33m\u001b[0m\u001b[0m\n\u001b[1;32m----> 9\u001b[1;33m     \u001b[0mdata\u001b[0m \u001b[1;33m=\u001b[0m \u001b[0mdata_pipeline\u001b[0m\u001b[1;33m(\u001b[0m\u001b[0mtimestamp\u001b[0m\u001b[1;33m,\u001b[0m \u001b[0minput_file\u001b[0m\u001b[1;33m)\u001b[0m\u001b[1;33m\u001b[0m\u001b[1;33m\u001b[0m\u001b[0m\n\u001b[0m\u001b[0;32m     10\u001b[0m     \u001b[0msplit_point\u001b[0m \u001b[1;33m=\u001b[0m \u001b[0mtimestamp\u001b[0m\u001b[1;33m.\u001b[0m\u001b[0mround\u001b[0m\u001b[1;33m(\u001b[0m\u001b[0mfreq\u001b[0m\u001b[1;33m=\u001b[0m\u001b[1;34m'H'\u001b[0m\u001b[1;33m)\u001b[0m\u001b[1;33m\u001b[0m\u001b[1;33m\u001b[0m\u001b[0m\n\u001b[0;32m     11\u001b[0m     \u001b[0mtrain_data\u001b[0m \u001b[1;33m=\u001b[0m \u001b[0mdata\u001b[0m\u001b[1;33m[\u001b[0m\u001b[0mdata\u001b[0m\u001b[1;33m.\u001b[0m\u001b[0mtime\u001b[0m \u001b[1;33m<=\u001b[0m \u001b[0mtimestamp\u001b[0m\u001b[1;33m]\u001b[0m\u001b[1;33m\u001b[0m\u001b[1;33m\u001b[0m\u001b[0m\n",
      "\u001b[1;32m~\\AppData\\Local\\Temp/ipykernel_11908/1741407013.py\u001b[0m in \u001b[0;36mdata_pipeline\u001b[1;34m(timestamp, input_file)\u001b[0m\n\u001b[0;32m      2\u001b[0m     \u001b[0mdata\u001b[0m \u001b[1;33m=\u001b[0m \u001b[0mget_data\u001b[0m\u001b[1;33m(\u001b[0m\u001b[0mtimestamp\u001b[0m\u001b[1;33m,\u001b[0m \u001b[0minput_file\u001b[0m\u001b[1;33m)\u001b[0m\u001b[1;33m\u001b[0m\u001b[1;33m\u001b[0m\u001b[0m\n\u001b[0;32m      3\u001b[0m     \u001b[0mdata\u001b[0m \u001b[1;33m=\u001b[0m \u001b[0mfill_nan\u001b[0m\u001b[1;33m(\u001b[0m\u001b[0mdata\u001b[0m\u001b[1;33m)\u001b[0m\u001b[1;33m\u001b[0m\u001b[1;33m\u001b[0m\u001b[0m\n\u001b[1;32m----> 4\u001b[1;33m     \u001b[0mdata\u001b[0m \u001b[1;33m=\u001b[0m \u001b[0mextract_feature\u001b[0m\u001b[1;33m(\u001b[0m\u001b[0mdata\u001b[0m\u001b[1;33m)\u001b[0m\u001b[1;33m\u001b[0m\u001b[1;33m\u001b[0m\u001b[0m\n\u001b[0m\u001b[0;32m      5\u001b[0m \u001b[1;33m\u001b[0m\u001b[0m\n\u001b[0;32m      6\u001b[0m     \u001b[1;32mreturn\u001b[0m \u001b[0mdata\u001b[0m\u001b[1;33m\u001b[0m\u001b[1;33m\u001b[0m\u001b[0m\n",
      "\u001b[1;31mNameError\u001b[0m: name 'extract_feature' is not defined"
     ]
    }
   ],
   "source": [
    "timestamp = '2016-08-25 00:59:59'\n",
    "input_file= 'data\\device_activations.csv'\n",
    "output_file = 'data\\myresult.csv'\n",
    "\n",
    "pred = predict(timestamp,input_file,output_file)"
   ]
  },
  {
   "cell_type": "code",
   "execution_count": null,
   "id": "037cdb3e",
   "metadata": {},
   "outputs": [],
   "source": []
  }
 ],
 "metadata": {
  "kernelspec": {
   "display_name": "Python 3 (ipykernel)",
   "language": "python",
   "name": "python3"
  },
  "language_info": {
   "codemirror_mode": {
    "name": "ipython",
    "version": 3
   },
   "file_extension": ".py",
   "mimetype": "text/x-python",
   "name": "python",
   "nbconvert_exporter": "python",
   "pygments_lexer": "ipython3",
   "version": "3.9.1"
  }
 },
 "nbformat": 4,
 "nbformat_minor": 5
}
